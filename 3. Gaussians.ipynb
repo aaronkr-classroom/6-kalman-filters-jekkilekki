{
 "cells": [
  {
   "cell_type": "markdown",
   "metadata": {},
   "source": [
    "# Gaussians\n",
    "\n",
    "We know that Gaussian equations contain two main parameters: \n",
    "* a mean, $\\mu$, and\n",
    "* a variance, often written as its square value, $\\sigma^2$.\n",
    "\n",
    "The general Gaussian equation looks like this:\n",
    "\n",
    "> $p(x) = \\frac{1}{{ \\sqrt {2\\pi \\sigma ^2 } }}e^{{ - ( {x - \\mu } )^2 }/{2\\sigma ^2 }}$\n",
    "\n",
    "\n",
    "Where we'll call the first part of the equation the *coefficient* and the second part the *exponential*. This second part is most important in defining the shape of the Gaussian (the coefficient is a normalizing term).\n",
    "\n",
    "For uncertain, continuous quantities, such as the estimated location of a self-driving car, **we use Gaussians to represent uncertainty** in that quantity. The smaller the variance, the more certain we are about a quantity.\n",
    "\n",
    "# 가우스\n",
    "\n",
    "가우스 방정식에는 두 가지 주요 매개변수가 포함된다는 것을 알고 있습니다.\n",
    "* 평균 $\\mu$와\n",
    "* 분산은 종종 제곱값 $\\sigma^2$로 표기됩니다.\n",
    "\n",
    "일반적인 가우스 방정식은 다음과 같습니다.\n",
    "\n",
    "> $p(x) = \\frac{1}{{ \\sqrt {2\\pi \\sigma ^2 } }}e^{{ - ( {x - \\mu } )^2 }/{2\\sigma ^2 }}$\n",
    "\n",
    "여기서 방정식의 첫 번째 부분을 *계수*라고 하고 두 번째 부분을 *지수*라고 합니다. 이 두 번째 부분은 가우스 방정식의 모양을 정의하는 데 가장 중요합니다(계수는 정규화 항입니다).\n",
    "\n",
    "자율주행차의 추정 위치와 같이 불확실하고 연속적인 양의 경우, **불확실성을 나타내기 위해 가우스를 사용합니다**. 분산이 작을수록 우리는 양에 대해 더 확신을 가질 수 있습니다."
   ]
  },
  {
   "cell_type": "code",
   "execution_count": null,
   "metadata": {},
   "outputs": [],
   "source": [
    "# import math functions\n",
    "from math import *\n",
    "import matplotlib.pyplot as plt\n",
    "import numpy as np \n",
    "\n",
    "# gaussian function\n",
    "def f(mu, sigma2, x):\n",
    "    ''' f takes in a mean and squared variance, and an input x\n",
    "       and returns the gaussian value.'''\n",
    "    coefficient = 1.0 / sqrt(2.0 * pi *sigma2)\n",
    "    exponential = exp(-0.5 * (x-mu) ** 2 / sigma2)\n",
    "    return coefficient * exponential\n",
    " "
   ]
  },
  {
   "cell_type": "code",
   "execution_count": null,
   "metadata": {},
   "outputs": [],
   "source": [
    "# an example Gaussian\n",
    "gauss_1 = f(10, 4, 8)\n",
    "print(gauss_1)"
   ]
  },
  {
   "cell_type": "markdown",
   "metadata": {},
   "source": [
    "### Plotting a Gaussian\n",
    "\n",
    "Since our function only returns values for specific values of x, we can plot a Gaussian by looping through a range of x values and creating a resulting list of Gaussian values, `g`, as shown below. You're encouraged to see what happens if you change the values of `mu` and `sigma2`.\n",
    "\n",
    "### 가우시안 그래프 그리기\n",
    "\n",
    "함수는 특정 x 값에 대한 값만 반환하므로, 아래와 같이 x 값 범위를 순회하며 가우시안 값의 결과 목록 `g`를 생성하여 가우시안 그래프를 그릴 수 있습니다. `mu`와 `sigma2` 값을 변경하면 어떻게 되는지 확인해 보세요."
   ]
  },
  {
   "cell_type": "code",
   "execution_count": null,
   "metadata": {},
   "outputs": [],
   "source": [
    "# display a gaussian over a range of x values\n",
    "# define the parameters\n",
    "mu = 10\n",
    "sigma2 = 4\n",
    "\n",
    "# TODO: define a range of x values\n",
    "\n",
    "\n",
    "# TODO: create a corresponding list of gaussian values\n",
    "\n",
    "\n",
    "# TODO: plot the result \n"
   ]
  },
  {
   "cell_type": "markdown",
   "metadata": {},
   "source": [
    "Look at the plot above and take note of the value of the peak. This is the **maximum** value of the Gaussian and we can calculate it exactly by setting `x = mu`.\n",
    "\n",
    "위 그림을 보고 피크 값을 기록해 두세요. 이는 가우시안 분포의 **최대** 값이며, `x = mu`로 설정하면 정확하게 계산할 수 있습니다."
   ]
  },
  {
   "cell_type": "code",
   "execution_count": null,
   "metadata": {},
   "outputs": [],
   "source": [
    "# maximize a Gaussian by setting mu and x equal\n",
    "gauss_2 = f(10, 4, 10)\n",
    "print(gauss_2)"
   ]
  },
  {
   "cell_type": "markdown",
   "metadata": {},
   "source": [
    "# New Mean and Variance\n",
    "\n",
    "Now let's take the formulas from the example below and use them to write a program that takes in two means and variances, and returns a *new*, updated mean and variance for a gaussian. This step is called the parameter or **measurement update** because it is the update that happens when an initial belief (represented by the blue Gaussian, below) is merged with a new piece of information, a measurement with some uncertainty (the orange Gaussian). \n",
    "\n",
    "As you've seen in the previous quizzes, the updated Gaussian will be a combination of these two Gaussians with a new mean that is in between both of theirs and a variance that is less than the smallest of the two given variances; this means that after a measurement, our new mean is more certain than that of the initial belief!\n",
    "\n",
    "<img src='images/mean_var.png' width=\"50%\" height=\"50%\">\n",
    "\n",
    "# 새로운 평균과 분산\n",
    "\n",
    "이제 아래 예제의 공식을 사용하여 두 개의 평균과 분산을 입력받아 가우시안 분포에 대한 *새롭고* 업데이트된 평균과 분산을 반환하는 프로그램을 작성해 보겠습니다. 이 단계를 매개변수 또는 **측정값 업데이트**라고 하는데, 이는 초기 신뢰도(아래 파란색 가우시안 분포로 표시)가 불확실성이 있는 측정값(주황색 가우시안 분포)과 병합될 때 발생하는 업데이트이기 때문입니다.\n",
    "\n",
    "이전 퀴즈에서 보셨듯이, 업데이트된 가우시안 분포는 두 가우시안 분포의 조합으로, 두 가우시안 분포의 평균은 두 가우시안 분포의 평균 사이에 있고, 분산은 주어진 두 분산 중 가장 작은 값보다 작습니다. 즉, 측정 후 새로운 평균은 초기 신뢰도의 평균보다 더 확실하다는 것을 의미합니다!\n",
    "\n",
    "<img src='images/mean_var.png' width=\"50%\" height=\"50%\">"
   ]
  },
  {
   "cell_type": "markdown",
   "metadata": {},
   "source": [
    "Below is our usual Gaussian equation and imports.\n",
    "\n",
    "아래는 일반적인 가우스 방정식과 가져오기입니다."
   ]
  },
  {
   "cell_type": "code",
   "execution_count": null,
   "metadata": {
    "collapsed": true
   },
   "outputs": [],
   "source": [
    "# import math functions\n",
    "from math import *\n",
    "import matplotlib.pyplot as plt\n",
    "import numpy as np\n",
    "\n",
    "# gaussian function\n",
    "def f(mu, sigma2, x):\n",
    "    ''' f takes in a mean and squared variance, and an input x\n",
    "       and returns the gaussian value.'''\n",
    "    coefficient = 1.0 / sqrt(2.0 * pi *sigma2)\n",
    "    exponential = exp(-0.5 * (x-mu) ** 2 / sigma2)\n",
    "    return coefficient * exponential\n",
    " "
   ]
  },
  {
   "cell_type": "markdown",
   "metadata": {},
   "source": [
    "### QUIZ: Write an `update` function that performs the measurement update.\n",
    "\n",
    "This function should combine the given Gaussian parameters and return new values for the mean and squared variance.\n",
    "\n",
    "This function does not have to perform any exponential math, it simply has to follow the equations for the measurement update as seen in the image at the top of this notebook. You may assume that the given variances `var1` and `var2` are squared terms.\n",
    "\n",
    "### 퀴즈: 측정값 업데이트를 수행하는 `update` 함수를 작성하세요.\n",
    "\n",
    "이 함수는 주어진 가우시안 매개변수를 결합하여 평균과 제곱 분산에 대한 새로운 값을 반환해야 합니다.\n",
    "\n",
    "이 함수는 지수 연산을 수행할 필요가 없으며, 이 노트북 상단의 이미지에서 볼 수 있듯이 측정값 업데이트 방정식을 따르기만 하면 됩니다. 주어진 분산 `var1`과 `var2`가 제곱항이라고 가정할 수 있습니다."
   ]
  },
  {
   "cell_type": "code",
   "execution_count": null,
   "metadata": {},
   "outputs": [],
   "source": [
    "# the update function\n",
    "def update(mean1, var1, mean2, var2):\n",
    "    ''' This function takes in two means and two squared variance terms,\n",
    "        and returns updated gaussian parameters.'''\n",
    "    ## TODO: Calculate the new parameters\n",
    "    new_mean = 0\n",
    "    new_var = 0\n",
    "    \n",
    "    return [new_mean, new_var]"
   ]
  },
  {
   "cell_type": "code",
   "execution_count": null,
   "metadata": {},
   "outputs": [],
   "source": [
    "# test your implementation\n",
    "new_params = update(10, 4, 12, 4)\n",
    "print(new_params)"
   ]
  },
  {
   "cell_type": "markdown",
   "metadata": {},
   "source": [
    "### Plot the Gaussian\n",
    "\n",
    "Plot a Gaussian by looping through a range of x values and creating a resulting list of Gaussian values, `g`, as shown below. You're encouraged to see what happens if you change the values of `mu` and `sigma2`.\n",
    "\n",
    "### 가우시안 그래프 그리기\n",
    "\n",
    "아래 그림과 같이 x 값 범위를 순환하며 가우시안 값의 결과 목록 `g`를 생성하여 가우시안 그래프를 그려보세요. `mu`와 `sigma2` 값을 변경하면 어떤 결과가 나오는지 확인해 보세요."
   ]
  },
  {
   "cell_type": "code",
   "execution_count": null,
   "metadata": {},
   "outputs": [],
   "source": [
    "# display a gaussian over a range of x values\n",
    "# define the parameters\n",
    "mu = new_params[0]\n",
    "sigma2 = new_params[1]\n",
    "\n",
    "# define a range of x values\n",
    "x_axis = np.arange(0, 20, 0.1)\n",
    "\n",
    "# create a corresponding list of gaussian values\n",
    "g = []\n",
    "for x in x_axis:\n",
    "    g.append(f(mu, sigma2, x))\n",
    "\n",
    "# plot the result \n",
    "plt.plot(x_axis, g)"
   ]
  },
  {
   "cell_type": "markdown",
   "metadata": {},
   "source": [
    "# Predict Function\n",
    "\n",
    "After performing a parameter update, which is done after some new measurement is collected, the next step is to incorporate motion into our Gaussian calculations. Recall that, as we estimate the location of a robot or self-driving car:\n",
    "\n",
    "* the measurement update *increases* our estimation certainty\n",
    "* the motion update/prediction *decreases* our certainty\n",
    "\n",
    "That is because every motion has some chance of under or overshooting its goal, and since motion is not exact, we end up losing some certainty about our exact location after each motion.\n",
    "\n",
    "Let's take the formulas from the example below and use them to write a program that takes in a mean and a motion and squared variances for both of those quantities, and returns a *new*, updated mean and variance for a new gaussian. This step is called the **motion update** or the predict step.\n",
    "\n",
    "<img src='images/motion_update.png' width=\"50%\" height=\"50%\">\n",
    "\n",
    "# 예측 함수\n",
    "\n",
    "새로운 측정값이 수집된 후 매개변수 업데이트를 수행한 후, 다음 단계는 가우시안 계산에 동작을 통합하는 것입니다. 로봇이나 자율주행차의 위치를 ​​추정할 때 다음과 같은 과정을 거칩니다.\n",
    "\n",
    "* 측정값 업데이트는 추정 확실성을 *증가*시킵니다.\n",
    "* 동작 업데이트/예측은 확실성을 *감소*시킵니다.\n",
    "\n",
    "모든 동작에는 목표에 미달하거나 초과할 가능성이 있으며, 동작 자체가 정확하지 않기 때문에 각 동작 후 정확한 위치에 대한 확실성을 잃게 됩니다.\n",
    "\n",
    "아래 예제의 공식을 사용하여 평균과 동작, 그리고 두 값의 제곱 분산을 입력받아 새로운 가우시안 계산에 대한 *새롭고* 업데이트된 평균과 분산을 반환하는 프로그램을 작성해 보겠습니다. 이 단계를 **동작 업데이트** 또는 예측 단계라고 합니다.\n",
    "\n",
    "<img src='images/motion_update.png' width=\"50%\" height=\"50%\">\n"
   ]
  },
  {
   "cell_type": "markdown",
   "metadata": {},
   "source": [
    "Below is our usual Gaussian equation and imports.\n",
    "\n",
    "아래는 일반적인 가우스 방정식과 가져오기입니다."
   ]
  },
  {
   "cell_type": "code",
   "execution_count": null,
   "metadata": {},
   "outputs": [],
   "source": [
    "# import math functions\n",
    "from math import *\n",
    "import matplotlib.pyplot as plt\n",
    "import numpy as np\n",
    "\n",
    "# gaussian function\n",
    "def f(mu, sigma2, x):\n",
    "    ''' f takes in a mean and squared variance, and an input x\n",
    "       and returns the gaussian value.'''\n",
    "    coefficient = 1.0 / sqrt(2.0 * pi *sigma2)\n",
    "    exponential = exp(-0.5 * (x-mu) ** 2 / sigma2)\n",
    "    return coefficient * exponential\n",
    " "
   ]
  },
  {
   "cell_type": "markdown",
   "metadata": {},
   "source": [
    "For convenience, you've also been given the complete `update` code that performs a parameter update when an initial belief and new measurement information are merged.\n",
    "\n",
    "편의상 초기 신념과 새로운 측정 정보가 병합될 때 매개변수 업데이트를 수행하는 완전한 `update` 코드도 제공됩니다."
   ]
  },
  {
   "cell_type": "code",
   "execution_count": null,
   "metadata": {},
   "outputs": [],
   "source": [
    "# the update function\n",
    "def update(mean1, var1, mean2, var2):\n",
    "    ''' This function takes in two means and two squared variance terms,\n",
    "        and returns updated gaussian parameters.'''\n",
    "    # Calculate the new parameters\n",
    "    new_mean = (var2*mean1 + var1*mean2)/(var2+var1)\n",
    "    new_var = 1/(1/var2 + 1/var1)\n",
    "    \n",
    "    return [new_mean, new_var]"
   ]
  },
  {
   "cell_type": "markdown",
   "metadata": {},
   "source": [
    "### QUIZ: Write a `predict` function that returns new values for the mean and squared variance of a Gaussian after a motion.\n",
    "\n",
    "This function should take in parameters for an initial belief and motion and perform the measurement update as seen in the image at the top of this notebook.\n",
    "\n",
    "### 퀴즈: 운동 후 가우시안 분포의 평균과 제곱 분산에 대한 새로운 값을 반환하는 `predict` 함수를 작성하세요.\n",
    "\n",
    "이 함수는 초기 믿음과 운동에 대한 매개변수를 받아서 이 노트북 상단의 이미지와 같이 측정값 업데이트를 수행해야 합니다."
   ]
  },
  {
   "cell_type": "code",
   "execution_count": null,
   "metadata": {},
   "outputs": [],
   "source": [
    "# the motion update/predict function\n",
    "def predict(mean1, var1, mean2, var2):\n",
    "    ''' This function takes in two means and two squared variance terms,\n",
    "        and returns updated gaussian parameters, after motion.'''\n",
    "    ## TODO: Calculate the new parameters\n",
    "    new_mean = 0\n",
    "    new_var = 0\n",
    "    \n",
    "    return [new_mean, new_var]"
   ]
  },
  {
   "cell_type": "code",
   "execution_count": null,
   "metadata": {},
   "outputs": [],
   "source": [
    "# test your implementation\n",
    "new_params = predict(10, 4, 12, 4)\n",
    "print(new_params)"
   ]
  },
  {
   "cell_type": "markdown",
   "metadata": {},
   "source": [
    "### Plot a Gaussian\n",
    "\n",
    "Plot a Gaussian by looping through a range of x values and creating a resulting list of Gaussian values, `g`, as shown below. You're encouraged to see what happens if you change the values of `mu` and `sigma2`.\n",
    "\n",
    "### 가우시안 그래프 그리기\n",
    "\n",
    "아래 그림과 같이 x 값 범위를 순환하며 가우시안 값의 결과 목록 `g`를 생성하여 가우시안 그래프를 그립니다. `mu`와 `sigma2` 값을 변경하면 어떻게 되는지 확인해 보세요."
   ]
  },
  {
   "cell_type": "code",
   "execution_count": null,
   "metadata": {},
   "outputs": [],
   "source": [
    "# display a gaussian over a range of x values\n",
    "# define the parameters\n",
    "mu = new_params[0]\n",
    "sigma2 = new_params[1]\n",
    "\n",
    "# define a range of x values\n",
    "x_axis = np.arange(0, 40, 0.1)\n",
    "\n",
    "# create a corresponding list of gaussian values\n",
    "g = []\n",
    "for x in x_axis:\n",
    "    g.append(f(mu, sigma2, x))\n",
    "\n",
    "# plot the result \n",
    "plt.plot(x_axis, g)"
   ]
  },
  {
   "cell_type": "markdown",
   "metadata": {},
   "source": [
    "---\n",
    "\n",
    "# 1D Kalman Filter\n",
    "\n",
    "Now, you're ready to implement a 1D Kalman Filter by putting all these steps together. Let's take the case of a robot that moves through the world. As a robot moves through the world it locates itself by performing a cycle of:\n",
    "1. sensing and performing a measurement update and\n",
    "2. moving and performing a motion update\n",
    "\n",
    "You've programmed each of these steps individually, so now let's combine them in a cycle!\n",
    "\n",
    "After implementing this filter, you should see that you can go from a very uncertain location Gaussian to a more and more certain Gaussian, as pictured below. The code in this notebooks is really just a simplified version of the Kalman filter that runs in the Google self-driving car that is used to track surrounding vehicles and other objects.\n",
    "\n",
    "<img src='images/gaussian_updates.png' height=70% width=70% />\n",
    "\n",
    "# 1D 칼만 필터\n",
    "\n",
    "이제 이 모든 단계를 결합하여 1D 칼만 필터를 구현할 준비가 되었습니다. 세상을 움직이는 로봇의 경우를 생각해 보겠습니다. 로봇은 세상을 이동하면서 다음과 같은 주기를 수행하여 자신의 위치를 ​​찾습니다.\n",
    "1. 감지 및 측정 업데이트 수행\n",
    "2. 이동 및 동작 업데이트 수행\n",
    "\n",
    "이러한 각 단계를 개별적으로 프로그래밍했으므로 이제 주기로 결합해 보겠습니다!\n",
    "\n",
    "이 필터를 구현하면 아래 그림과 같이 매우 불확실한 위치 가우시안에서 점점 더 확실한 가우시안으로 이동할 수 있음을 알 수 있습니다. 이 노트북의 코드는 주변 차량 및 기타 물체를 추적하는 데 사용되는 Google 자율주행차에서 실행되는 칼만 필터의 단순화된 버전입니다.\n",
    "\n",
    "<img src='images/gaussian_updates.png' height=70% width=70% />\n",
    "\n",
    "---"
   ]
  },
  {
   "cell_type": "markdown",
   "metadata": {},
   "source": [
    "Below is our usual Gaussian equation and imports.\n",
    "\n",
    "아래는 일반적인 가우스 방정식과 가져오기입니다."
   ]
  },
  {
   "cell_type": "code",
   "execution_count": null,
   "metadata": {},
   "outputs": [],
   "source": [
    "# import math functions\n",
    "from math import *\n",
    "import matplotlib.pyplot as plt\n",
    "import numpy as np\n",
    "\n",
    "# gaussian function\n",
    "def f(mu, sigma2, x):\n",
    "    ''' f takes in a mean and squared variance, and an input x\n",
    "       and returns the gaussian value.'''\n",
    "    coefficient = 1.0 / sqrt(2.0 * pi *sigma2)\n",
    "    exponential = exp(-0.5 * (x-mu) ** 2 / sigma2)\n",
    "    return coefficient * exponential\n",
    " "
   ]
  },
  {
   "cell_type": "markdown",
   "metadata": {},
   "source": [
    "You've also been given the complete `update` code that performs a parameter update when an initial belief and new measurement information are merged. And the complete `predict` code that performs an update to a Gasuuain after a motion is incorporated.\n",
    "\n",
    "또한 초기 신념과 새로운 측정 정보가 병합될 때 매개변수 업데이트를 수행하는 완전한 `update` 코드와, 모션이 통합된 후 Gasuuain을 업데이트하는 완전한 `predict` 코드도 제공되었습니다."
   ]
  },
  {
   "cell_type": "code",
   "execution_count": null,
   "metadata": {},
   "outputs": [],
   "source": [
    "# the update function\n",
    "def update(mean1, var1, mean2, var2):\n",
    "    ''' This function takes in two means and two squared variance terms,\n",
    "        and returns updated gaussian parameters.'''\n",
    "    # Calculate the new parameters\n",
    "    new_mean = (var2*mean1 + var1*mean2)/(var2+var1)\n",
    "    new_var = 1/(1/var2 + 1/var1)\n",
    "    \n",
    "    return [new_mean, new_var]\n",
    "\n",
    "\n",
    "# the motion update/predict function\n",
    "def predict(mean1, var1, mean2, var2):\n",
    "    ''' This function takes in two means and two squared variance terms,\n",
    "        and returns updated gaussian parameters, after motion.'''\n",
    "    # Calculate the new parameters\n",
    "    new_mean = mean1 + mean2\n",
    "    new_var = var1 + var2\n",
    "    \n",
    "    return [new_mean, new_var]"
   ]
  },
  {
   "cell_type": "markdown",
   "metadata": {},
   "source": [
    "### QUIZ: For the given measurements and motions, write complete 1D Kalman filter code that loops through all of these in order.\n",
    "\n",
    "Your complete code should look at sensor measurements then motions in that sequence until all updates are done!\n",
    "\n",
    "### Initial Uncertainty\n",
    "\n",
    "You'll see that you are given initial parameters below, and this includes and nitial location estimation, `mu` and squared variance, `sig`. Note that the initial estimate is set to the location 0, and the variance is extremely large; this is a state of high confusion much like the *uniform* distribution we used in the histogram filter. There are also values given for the squared variance associated with the sensor measurements and the motion, since neither of those readings are perfect, either.\n",
    "\n",
    "You should see that even though the initial estimate for location (the initial `mu`) is far from the first measurement, it should catch up fairly quickly as you cycle through measurements and motions.\n",
    "\n",
    "### 퀴즈: 주어진 측정값과 동작에 대해, 이 모든 값을 순서대로 반복하는 완전한 1차원 칼만 필터 코드를 작성하세요.\n",
    "\n",
    "완성된 코드는 모든 업데이트가 완료될 때까지 센서 측정값과 동작을 순차적으로 살펴봐야 합니다!\n",
    "\n",
    "### 초기 불확실성\n",
    "\n",
    "아래에 초기 매개변수가 주어졌음을 알 수 있으며, 여기에는 초기 위치 추정값 `mu`와 제곱 분산 `sig`가 포함됩니다. 초기 추정값은 위치 0으로 설정되어 있고 분산은 매우 큽니다. 이는 히스토그램 필터에서 사용한 *균일* 분포와 매우 유사한 혼란스러운 상태입니다. 센서 측정값과 동작에 관련된 제곱 분산에 대한 값도 있는데, 두 측정값 모두 완벽하지 않기 때문입니다.\n",
    "\n",
    "초기 위치 추정값(초기 `mu`)이 첫 번째 측정값과 크게 다르지 않지만, 측정과 동작을 순환하면서 상당히 빠르게 따라잡을 것입니다."
   ]
  },
  {
   "cell_type": "code",
   "execution_count": null,
   "metadata": {},
   "outputs": [],
   "source": [
    "# measurements for mu and motions, U\n",
    "measurements = [5., 6., 7., 9., 10.]\n",
    "motions = [1., 1., 2., 1., 1.]\n",
    "\n",
    "# initial parameters\n",
    "measurement_sig = 4.\n",
    "motion_sig = 2.\n",
    "mu = 0.\n",
    "sig = 10000.\n",
    "\n",
    "## TODO: Loop through all measurements/motions\n",
    "## Print out and display the resulting Gaussian \n",
    "\n",
    "# your code here\n"
   ]
  },
  {
   "cell_type": "markdown",
   "metadata": {},
   "source": [
    "### Plot a Gaussian\n",
    "\n",
    "Plot a Gaussian by looping through a range of x values and creating a resulting list of Gaussian values, `g`, as shown below. You're encouraged to see what happens if you change the values of `mu` and `sigma2`.\n",
    "\n",
    "### 가우시안 그래프 그리기\n",
    "\n",
    "아래 그림과 같이 x 값 범위를 순환하며 가우시안 값의 결과 목록 `g`를 생성하여 가우시안 그래프를 그립니다. `mu`와 `sigma2` 값을 변경하면 어떻게 되는지 확인해 보세요."
   ]
  },
  {
   "cell_type": "code",
   "execution_count": null,
   "metadata": {},
   "outputs": [],
   "source": [
    "# display the *initial* gaussian over a range of x values\n",
    "# define the parameters\n",
    "mu = 0\n",
    "sigma2 = 10000\n",
    "\n",
    "# define a range of x values\n",
    "x_axis = np.arange(-20, 20, 0.1)\n",
    "\n",
    "# create a corresponding list of gaussian values\n",
    "g = []\n",
    "for x in x_axis:\n",
    "    g.append(f(mu, sigma2, x))\n",
    "\n",
    "# plot the result \n",
    "plt.plot(x_axis, g)"
   ]
  },
  {
   "cell_type": "markdown",
   "metadata": {},
   "source": [
    "# Predict state\n",
    "\n",
    "Here is the current implementation of the `predict_state` function. It takes in a state (a Python list), and then separates those into position and velocity to calculate a new, predicted state. It uses a constant velocity motion model.\n",
    "\n",
    "**In this exercise, we'll be improving this function, and using matrix multiplication to efficiently calculate the predicted state!**\n",
    "\n",
    "# 상태 예측\n",
    "\n",
    "`predict_state` 함수의 현재 구현은 다음과 같습니다. 상태(파이썬 리스트)를 입력으로 받아 위치와 속도로 분리하여 새로운 예측 상태를 계산합니다. 등속 운동 모델을 사용합니다.\n",
    "\n",
    "**이 연습에서는 이 함수를 개선하고 행렬 곱셈을 사용하여 예측 상태를 효율적으로 계산해 보겠습니다!**"
   ]
  },
  {
   "cell_type": "code",
   "execution_count": null,
   "metadata": {},
   "outputs": [],
   "source": [
    "# The current predict state function\n",
    "# Predicts the next state based on a motion model\n",
    "def predict_state(state, dt):\n",
    "    # Assumes a valid state had been passed in\n",
    "    x = state[0]\n",
    "    velocity = state[1]\n",
    "    \n",
    "    # Assumes a constant velocity model\n",
    "    new_x = x + velocity*dt\n",
    "    \n",
    "    # Create and return the new, predicted state\n",
    "    predicted_state = [new_x, velocity]\n",
    "    return predicted_state\n"
   ]
  },
  {
   "cell_type": "markdown",
   "metadata": {},
   "source": [
    "## Matrix operations\n",
    "\n",
    "You've been given a matrix class that can create new matrices and performs one operation: multiplication. In our directory this is called `matrix.py`.\n",
    "\n",
    "Similar to the Car class, we can use this to initialize matrix objects.\n",
    "\n",
    "## 행렬 연산\n",
    "\n",
    "새로운 행렬을 생성하고 곱셈이라는 한 가지 연산을 수행하는 행렬 클래스가 주어졌습니다. 이 클래스는 디렉토리에서 `matrix.py`라는 이름으로 존재합니다.\n",
    "\n",
    "Car 클래스와 마찬가지로, 이 클래스를 사용하여 행렬 객체를 초기화할 수 있습니다."
   ]
  },
  {
   "cell_type": "code",
   "execution_count": null,
   "metadata": {},
   "outputs": [],
   "source": [
    "# import the matrix file\n",
    "import matrix\n",
    "\n",
    "# Initialize a state vector\n",
    "initial_position = 0 # meters\n",
    "velocity = 50 # m/s\n",
    "\n",
    "# Notice the syntax for creating a state column vector ([ [x], [v] ])\n",
    "# Commas separate these items into rows and brackets into columns\n",
    "initial_state = matrix.Matrix([ [initial_position], \n",
    "                                [velocity] ])"
   ]
  },
  {
   "cell_type": "markdown",
   "metadata": {},
   "source": [
    "### Transformation matrix\n",
    "\n",
    "Next, define the state transformation matrix and print it out!\n",
    "\n",
    "### 변환 행렬\n",
    "\n",
    "다음으로, 상태 변환 행렬을 정의하고 출력해 보세요!"
   ]
  },
  {
   "cell_type": "code",
   "execution_count": null,
   "metadata": {},
   "outputs": [],
   "source": [
    "# Define the state transformation matrix\n",
    "dt = 1\n",
    "tx_matrix = matrix.Matrix([ [1, dt], \n",
    "                            [0, 1] ])\n",
    "\n",
    "print(tx_matrix)"
   ]
  },
  {
   "cell_type": "markdown",
   "metadata": {},
   "source": [
    "### TODO: Modify the predict state function to use matrix multiplication\n",
    "\n",
    "Now that you know how to create matrices, modify the `predict_state` function to work with them!\n",
    "\n",
    "Note: you can multiply a matrix A by a matrix B by writing `A*B` and it will return a new matrix.\n",
    "\n",
    "### TODO: 행렬 곱셈을 사용하도록 예측 상태 함수 수정\n",
    "\n",
    "이제 행렬을 생성하는 방법을 알았으니, `predict_state` 함수를 수정하여 행렬을 처리해 보세요!\n",
    "\n",
    "참고: `A*B`를 사용하여 행렬 A와 행렬 B를 곱하면 새로운 행렬이 반환됩니다."
   ]
  },
  {
   "cell_type": "code",
   "execution_count": null,
   "metadata": {},
   "outputs": [],
   "source": [
    "# The current predict state function\n",
    "def predict_state_mtx(state, dt):\n",
    "    ## TODO: Assume that the state passed in is a Matrix object\n",
    "    ## Using a constant velocity model and a transformation matrix\n",
    "    tx_matrix = matrix.Matrix([ [1, dt], \n",
    "                            [0, 1] ])\n",
    "    \n",
    "    ## Create and return the new, predicted state!\n",
    "    predicted_state = state * dt\n",
    "    \n",
    "    return predicted_state"
   ]
  },
  {
   "cell_type": "markdown",
   "metadata": {},
   "source": [
    "### Test cell\n",
    "\n",
    "Here is an initial state vector and dt to test your function with!\n",
    "\n",
    "### 테스트 셀\n",
    "\n",
    "다음은 함수를 테스트할 초기 상태 벡터와 dt입니다!"
   ]
  },
  {
   "cell_type": "code",
   "execution_count": null,
   "metadata": {},
   "outputs": [],
   "source": [
    "# initial state variables\n",
    "initial_position = 10 # meters\n",
    "velocity = 30 # m/s\n",
    "\n",
    "# Initial state vector\n",
    "initial_state = matrix.Matrix([ [initial_position], \n",
    "                                [velocity] ])\n",
    "\n",
    "\n",
    "print('The initial state is: ' + str(initial_state))\n",
    "\n",
    "\n",
    "# after 2 seconds make a prediction using the new function\n",
    "state_est1 = predict_state_mtx(initial_state, 2)\n",
    "\n",
    "print('State after 2 seconds is: ' + str(state_est1))"
   ]
  },
  {
   "cell_type": "code",
   "execution_count": null,
   "metadata": {},
   "outputs": [],
   "source": [
    "# Make more predictions!\n",
    "\n",
    "# after 3 more\n",
    "state_est2 = predict_state_mtx(state_est1, 3)\n",
    "\n",
    "print('State after 3 more seconds is: ' + str(state_est2))\n",
    "\n",
    "# after 3 more\n",
    "state_est3 = predict_state_mtx(state_est2, 3)\n",
    "\n",
    "print('Final state after 3 more seconds is: ' + str(state_est3))"
   ]
  }
 ],
 "metadata": {
  "kernelspec": {
   "display_name": "Python 3",
   "language": "python",
   "name": "python3"
  },
  "language_info": {
   "codemirror_mode": {
    "name": "ipython",
    "version": 3
   },
   "file_extension": ".py",
   "mimetype": "text/x-python",
   "name": "python",
   "nbconvert_exporter": "python",
   "pygments_lexer": "ipython3",
   "version": "3.12.4"
  }
 },
 "nbformat": 4,
 "nbformat_minor": 2
}
